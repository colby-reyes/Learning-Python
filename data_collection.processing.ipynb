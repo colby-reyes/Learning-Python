{
 "cells": [
  {
   "cell_type": "markdown",
   "metadata": {
    "collapsed": false
   },
   "source": [
    "## Nested Data & Iteration"
   ]
  },
  {
   "cell_type": "markdown",
   "metadata": {},
   "source": [
    "### Nested Lists"
   ]
  },
  {
   "cell_type": "code",
   "execution_count": 5,
   "metadata": {
    "collapsed": false
   },
   "outputs": [
    {
     "name": "stdout",
     "output_type": "stream",
     "text": [
      "['a', 'b', 'c']\n"
     ]
    }
   ],
   "source": [
    "nested1 = [['a','b','c'],['d','e'],['f','g','h']]\n",
    "print(nested1[0])"
   ]
  },
  {
   "cell_type": "code",
   "execution_count": 6,
   "metadata": {
    "collapsed": false
   },
   "outputs": [
    {
     "name": "stdout",
     "output_type": "stream",
     "text": [
      "3\n"
     ]
    }
   ],
   "source": [
    "print(len(nested1))"
   ]
  },
  {
   "cell_type": "code",
   "execution_count": 7,
   "metadata": {
    "collapsed": true
   },
   "outputs": [],
   "source": [
    "nested1.append(['i'])"
   ]
  },
  {
   "cell_type": "code",
   "execution_count": 8,
   "metadata": {
    "collapsed": false
   },
   "outputs": [
    {
     "name": "stdout",
     "output_type": "stream",
     "text": [
      "['a', 'b', 'c']\n",
      "['d', 'e']\n",
      "['f', 'g', 'h']\n",
      "['i']\n"
     ]
    }
   ],
   "source": [
    "for L in nested1:\n",
    "    print(L)"
   ]
  },
  {
   "cell_type": "code",
   "execution_count": 9,
   "metadata": {
    "collapsed": true
   },
   "outputs": [],
   "source": [
    "nested1[0].append('z')\n",
    "nested1[1].append('w')"
   ]
  },
  {
   "cell_type": "code",
   "execution_count": 10,
   "metadata": {
    "collapsed": false
   },
   "outputs": [
    {
     "name": "stdout",
     "output_type": "stream",
     "text": [
      "['a', 'b', 'c', 'z']\n",
      "['d', 'e', 'w']\n",
      "['f', 'g', 'h']\n",
      "['i']\n"
     ]
    }
   ],
   "source": [
    "for L in nested1:\n",
    "    print(L)"
   ]
  },
  {
   "cell_type": "markdown",
   "metadata": {},
   "source": [
    "<b>breaking nested lists into pieces:"
   ]
  },
  {
   "cell_type": "code",
   "execution_count": 11,
   "metadata": {
    "collapsed": false
   },
   "outputs": [
    {
     "name": "stdout",
     "output_type": "stream",
     "text": [
      "['d', 'e', 'w']\n",
      "d\n"
     ]
    }
   ],
   "source": [
    "y = nested1[1]\n",
    "print(y)\n",
    "print(y[0])"
   ]
  },
  {
   "cell_type": "markdown",
   "metadata": {},
   "source": [
    "<b>In-line list creation and indexing:"
   ]
  },
  {
   "cell_type": "code",
   "execution_count": 12,
   "metadata": {
    "collapsed": false
   },
   "outputs": [
    {
     "name": "stdout",
     "output_type": "stream",
     "text": [
      "20\n"
     ]
    }
   ],
   "source": [
    "print([10,20,30][1])"
   ]
  },
  {
   "cell_type": "markdown",
   "metadata": {},
   "source": [
    "<b>Sub-indexing:"
   ]
  },
  {
   "cell_type": "code",
   "execution_count": 14,
   "metadata": {
    "collapsed": false
   },
   "outputs": [
    {
     "name": "stdout",
     "output_type": "stream",
     "text": [
      "d\n"
     ]
    }
   ],
   "source": [
    "print(nested1[1][0])"
   ]
  },
  {
   "cell_type": "markdown",
   "metadata": {},
   "source": [
    "<b>Replacing list and sub-list elements:"
   ]
  },
  {
   "cell_type": "code",
   "execution_count": 18,
   "metadata": {
    "collapsed": false
   },
   "outputs": [
    {
     "name": "stdout",
     "output_type": "stream",
     "text": [
      "[['a', 'b', 'c', 'z'], [1, 2, 3], ['f', 'g', 'h'], ['i']]\n",
      "[['a', 'b', 'c', 'z'], [100, 2, 3], ['f', 'g', 'h'], ['i']]\n"
     ]
    }
   ],
   "source": [
    "nested1[1] = [1,2,3]\n",
    "print(nested1)\n",
    "nested1[1][0] = 100\n",
    "print(nested1)"
   ]
  },
  {
   "cell_type": "markdown",
   "metadata": {},
   "source": [
    "<b>Dictionaries as List Items:"
   ]
  },
  {
   "cell_type": "code",
   "execution_count": 19,
   "metadata": {
    "collapsed": true
   },
   "outputs": [],
   "source": [
    "nest2 = [{'a':1, 'b':2, 'c':3}, {'a':5, 'c':90, 5:50}, {'b':3, 'c':\"yes\"}]"
   ]
  },
  {
   "cell_type": "code",
   "execution_count": 28,
   "metadata": {
    "collapsed": false
   },
   "outputs": [
    {
     "name": "stdout",
     "output_type": "stream",
     "text": [
      "5\n"
     ]
    }
   ],
   "source": [
    "print(nest2[1]['a'])"
   ]
  },
  {
   "cell_type": "markdown",
   "metadata": {
    "collapsed": true
   },
   "source": [
    "<b>Nested Dictionaries"
   ]
  },
  {
   "cell_type": "code",
   "execution_count": 1,
   "metadata": {
    "collapsed": true
   },
   "outputs": [],
   "source": [
    "info = {'personal data':\n",
    "        {'name':'Lauren',\n",
    "        'age': 20,\n",
    "        'major':'information science',\n",
    "        'physical features':\n",
    "         {'color':{'eye': 'blue',\n",
    "                   'hair': 'brown'},\n",
    "         'height': \"5'8\"}\n",
    "        },\n",
    "        'other':\n",
    "        {'favorite colors': ['purple','green','blue'],\n",
    "        'interested in': ['social media', 'intellectual property', 'copyright', 'music','books']\n",
    "        }\n",
    "       }"
   ]
  },
  {
   "cell_type": "code",
   "execution_count": 3,
   "metadata": {
    "collapsed": false
   },
   "outputs": [
    {
     "name": "stdout",
     "output_type": "stream",
     "text": [
      "{'major': 'information science', 'physical features': {'color': {'eye': 'blue', 'hair': 'brown'}, 'height': \"5'8\"}, 'age': 20, 'name': 'Lauren'}\n"
     ]
    }
   ],
   "source": [
    "\"\"\"attempt #1 to extract 'color' from nested dictionary \"\"\"\n",
    "find_color1 = info['personal data']\n",
    "print(find_color1)"
   ]
  },
  {
   "cell_type": "code",
   "execution_count": 5,
   "metadata": {
    "collapsed": false
   },
   "outputs": [
    {
     "name": "stdout",
     "output_type": "stream",
     "text": [
      "{'color': {'eye': 'blue', 'hair': 'brown'}, 'height': \"5'8\"}\n"
     ]
    }
   ],
   "source": [
    "\"\"\"attempt #2 to extract 'color' from nested dictionary \"\"\"\n",
    "find_color2 = info['personal data']['physical features']\n",
    "print(find_color2)"
   ]
  },
  {
   "cell_type": "code",
   "execution_count": 7,
   "metadata": {
    "collapsed": false
   },
   "outputs": [
    {
     "name": "stdout",
     "output_type": "stream",
     "text": [
      "{'eye': 'blue', 'hair': 'brown'}\n",
      "success!\n"
     ]
    }
   ],
   "source": [
    "\"\"\"attempt #3 to extract 'color' from nested dictionary \"\"\"\n",
    "find_color3 = info['personal data']['physical features']['color']\n",
    "print(find_color3)\n",
    "print('success!')"
   ]
  },
  {
   "cell_type": "code",
   "execution_count": 10,
   "metadata": {
    "collapsed": false
   },
   "outputs": [
    {
     "name": "stdout",
     "output_type": "stream",
     "text": [
      "68\n",
      "overwriting to inches...\n",
      "68\n"
     ]
    }
   ],
   "source": [
    "\"\"\"overwrite/assign value at specific position\"\"\"\n",
    "height = info['personal data']['physical features']['height']\n",
    "print(height)\n",
    "print(\"overwriting to inches...\")\n",
    "info['personal data']['physical features']['height'] = 68\n",
    "height = info['personal data']['physical features']['height']\n",
    "print(height)"
   ]
  },
  {
   "cell_type": "markdown",
   "metadata": {},
   "source": [
    "### Reading and Processing JSON "
   ]
  },
  {
   "cell_type": "code",
   "execution_count": 11,
   "metadata": {
    "collapsed": true
   },
   "outputs": [],
   "source": [
    "\"\"\"import json module to learn json module methods and how to interect with the json format in python\"\"\"\n",
    "import json"
   ]
  },
  {
   "cell_type": "markdown",
   "metadata": {},
   "source": [
    "<b>json.loads()</b>"
   ]
  },
  {
   "cell_type": "code",
   "execution_count": 12,
   "metadata": {
    "collapsed": true
   },
   "outputs": [],
   "source": [
    "a_string = '\\n\\n\\n{\\n \"result count\":25,\"results\": [\\n{\"wrapperType\":\"track\",\"kind\":\"podcast\",\"collectionID\":10892}]}'"
   ]
  },
  {
   "cell_type": "code",
   "execution_count": 14,
   "metadata": {
    "collapsed": false
   },
   "outputs": [
    {
     "name": "stdout",
     "output_type": "stream",
     "text": [
      "<class 'dict'>\n"
     ]
    }
   ],
   "source": [
    "d = json.loads(a_string)\n",
    "print(type(d))"
   ]
  },
  {
   "cell_type": "code",
   "execution_count": 15,
   "metadata": {
    "collapsed": false
   },
   "outputs": [
    {
     "name": "stdout",
     "output_type": "stream",
     "text": [
      "dict_keys(['result count', 'results'])\n"
     ]
    }
   ],
   "source": [
    "print(d.keys())"
   ]
  },
  {
   "cell_type": "code",
   "execution_count": 16,
   "metadata": {
    "collapsed": false
   },
   "outputs": [
    {
     "name": "stdout",
     "output_type": "stream",
     "text": [
      "25\n"
     ]
    }
   ],
   "source": [
    "print(d['result count'])"
   ]
  },
  {
   "cell_type": "markdown",
   "metadata": {},
   "source": [
    "<b>json.dumps()</b>"
   ]
  },
  {
   "cell_type": "code",
   "execution_count": 20,
   "metadata": {
    "collapsed": false
   },
   "outputs": [
    {
     "name": "stdout",
     "output_type": "stream",
     "text": [
      "d as a dictionary:\n",
      "{'key1': {'a': 90, '5': 50, 'c': 5}, 'key2': {'b': 3, 'c': 'yes'}}\n",
      "---------------\n",
      "d as a json object:\n",
      "{\n",
      "  \"key1\": {\n",
      "    \"5\": 50,\n",
      "    \"a\": 90,\n",
      "    \"c\": 5\n",
      "  },\n",
      "  \"key2\": {\n",
      "    \"b\": 3,\n",
      "    \"c\": \"yes\"\n",
      "  }\n",
      "}\n"
     ]
    }
   ],
   "source": [
    "def pretty(obj):\n",
    "    return json.dumps(obj, sort_keys=True, indent=2)\n",
    "\n",
    "d = {'key1':{'c':5, 'a':90, '5':50}, 'key2': {'b':3, 'c':\"yes\"}}\n",
    "print(\"d as a dictionary:\\n{}\".format(d))\n",
    "print(\"---------------\")\n",
    "print(\"d as a json object:\\n{}\".format(pretty(d)))"
   ]
  },
  {
   "cell_type": "markdown",
   "metadata": {},
   "source": [
    "### Nested Iteration"
   ]
  },
  {
   "cell_type": "code",
   "execution_count": 22,
   "metadata": {
    "collapsed": false
   },
   "outputs": [
    {
     "name": "stdout",
     "output_type": "stream",
     "text": [
      "Level 1 ( <class 'list'> ):  ['a', 'b', 'c']\n",
      "     Level 2:  a\n",
      "     Level 2:  b\n",
      "     Level 2:  c\n",
      "Level 1 ( <class 'list'> ):  ['d', 'e']\n",
      "     Level 2:  d\n",
      "     Level 2:  e\n",
      "Level 1 ( <class 'list'> ):  ['f', 'g', 'h']\n",
      "     Level 2:  f\n",
      "     Level 2:  g\n",
      "     Level 2:  h\n"
     ]
    }
   ],
   "source": [
    "#Iterate through the levels of nested lists:\n",
    "nested = [['a','b','c'], ['d','e'], ['f','g','h']]\n",
    "\n",
    "for x in nested:\n",
    "    print(\"Level 1 (\",type(x),\"): \",x)\n",
    "    for y in x:\n",
    "        print(\"     Level 2: \",y)"
   ]
  },
  {
   "cell_type": "code",
   "execution_count": 23,
   "metadata": {
    "collapsed": false
   },
   "outputs": [
    {
     "name": "stdout",
     "output_type": "stream",
     "text": [
      "['b']\n",
      "['b', 'e']\n",
      "['b', 'e', 'g']\n"
     ]
    }
   ],
   "source": [
    "#Accumulate 2nd value of all inner lists:\n",
    "accum2 = []\n",
    "for x in nested:\n",
    "    accum2.append(x[1])\n",
    "    print(accum2)"
   ]
  },
  {
   "cell_type": "markdown",
   "metadata": {},
   "source": [
    "### Structuring Nested Data"
   ]
  },
  {
   "cell_type": "markdown",
   "metadata": {},
   "source": [
    "1. Don't mix data types\n",
    "    - example: don't mix `list` and `int` >> will give error `cannot iterate over object int()`\n",
    "    - if this must be done (or using data that someone else structured), include a `type` check:\n",
    "    <code>\n",
    "    if type(x) is list:\n",
    "        for y in x:\n",
    "            #do something\n",
    "        else:\n",
    "            print(x)"
   ]
  },
  {
   "cell_type": "code",
   "execution_count": null,
   "metadata": {
    "collapsed": true
   },
   "outputs": [],
   "source": []
  }
 ],
 "metadata": {
  "kernelspec": {
   "display_name": "Python 3",
   "language": "python",
   "name": "python3"
  },
  "language_info": {
   "codemirror_mode": {
    "name": "ipython",
    "version": 3
   },
   "file_extension": ".py",
   "mimetype": "text/x-python",
   "name": "python",
   "nbconvert_exporter": "python",
   "pygments_lexer": "ipython3",
   "version": "3.5.3"
  }
 },
 "nbformat": 4,
 "nbformat_minor": 2
}
